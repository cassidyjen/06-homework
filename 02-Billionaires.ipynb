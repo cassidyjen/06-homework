{
 "cells": [
  {
   "cell_type": "markdown",
   "metadata": {},
   "source": [
    "# Homework 5, Part 2: Answer questions with pandas\n",
    "\n",
    "**Use the Excel file to answer the following questions.** This is a little more typical of what your data exploration will look like with pandas.\n",
    "\n",
    "> Again, **don't use ChatGPT for this assignment.** You should be able to memorize the most basic parts of pandas."
   ]
  },
  {
   "cell_type": "markdown",
   "metadata": {},
   "source": [
    "## 0) Setup\n",
    "\n",
    "Import pandas **with the correct name** ."
   ]
  },
  {
   "cell_type": "code",
   "execution_count": 127,
   "metadata": {},
   "outputs": [],
   "source": [
    "import pandas as pd"
   ]
  },
  {
   "cell_type": "markdown",
   "metadata": {},
   "source": [
    "## 1) Reading in an Excel file\n",
    "\n",
    "Use pandas to read in the `richpeople.xlsx` Excel file, saving it as a variable with the name we'll always use for a dataframe.\n",
    "\n",
    "> **TIP:** You will use `read_excel` instead of `read_csv`. Trying `read_excel` the first time will probably not work, you'll get an error message. Be sure to read the error carefully: *you probably need to install a new library before it will work, and the error tells you what the library is named*. You *might* need to do `Kernel > Restart Kernel...` and run the notebook again from the top in order to get it to work."
   ]
  },
  {
   "cell_type": "code",
   "execution_count": 223,
   "metadata": {},
   "outputs": [],
   "source": [
    "#!pip install openpyxl\n",
    "\n",
    "df=pd.read_excel(\"richpeople.xlsx\")"
   ]
  },
  {
   "cell_type": "markdown",
   "metadata": {},
   "source": [
    "## 2) Checking your data\n",
    "\n",
    "Display the number of rows and columns in your data. Also display the names and data types of each column."
   ]
  },
  {
   "cell_type": "code",
   "execution_count": 224,
   "metadata": {},
   "outputs": [
    {
     "data": {
      "text/plain": [
       "(1653, 30)"
      ]
     },
     "execution_count": 224,
     "metadata": {},
     "output_type": "execute_result"
    }
   ],
   "source": [
    "df.shape"
   ]
  },
  {
   "cell_type": "code",
   "execution_count": 225,
   "metadata": {},
   "outputs": [
    {
     "data": {
      "text/plain": [
       "year                         int64\n",
       "name                        object\n",
       "rank                         int64\n",
       "citizenship                 object\n",
       "countrycode                 object\n",
       "networthusbillion          float64\n",
       "selfmade                    object\n",
       "typeofwealth                object\n",
       "gender                      object\n",
       "age                        float64\n",
       "industry                    object\n",
       "IndustryAggregates          object\n",
       "region                      object\n",
       "north                        int64\n",
       "politicalconnection        float64\n",
       "founder                      int64\n",
       "generationofinheritance     object\n",
       "sector                      object\n",
       "company                     object\n",
       "companytype                 object\n",
       "relationshiptocompany       object\n",
       "foundingdate               float64\n",
       "gdpcurrentus               float64\n",
       "sourceofwealth              object\n",
       "notes                       object\n",
       "notes2                      object\n",
       "source                      object\n",
       "source_2                    object\n",
       "source_3                    object\n",
       "source_4                    object\n",
       "dtype: object"
      ]
     },
     "execution_count": 225,
     "metadata": {},
     "output_type": "execute_result"
    }
   ],
   "source": [
    "df.dtypes"
   ]
  },
  {
   "cell_type": "markdown",
   "metadata": {},
   "source": [
    "## 3) Who are the top 10 richest billionaires? Use the `networthusbillion` column."
   ]
  },
  {
   "cell_type": "code",
   "execution_count": 230,
   "metadata": {},
   "outputs": [
    {
     "data": {
      "text/html": [
       "<div>\n",
       "<style scoped>\n",
       "    .dataframe tbody tr th:only-of-type {\n",
       "        vertical-align: middle;\n",
       "    }\n",
       "\n",
       "    .dataframe tbody tr th {\n",
       "        vertical-align: top;\n",
       "    }\n",
       "\n",
       "    .dataframe thead th {\n",
       "        text-align: right;\n",
       "    }\n",
       "</style>\n",
       "<table border=\"1\" class=\"dataframe\">\n",
       "  <thead>\n",
       "    <tr style=\"text-align: right;\">\n",
       "      <th></th>\n",
       "      <th>year</th>\n",
       "      <th>name</th>\n",
       "      <th>rank</th>\n",
       "      <th>citizenship</th>\n",
       "      <th>countrycode</th>\n",
       "      <th>networthusbillion</th>\n",
       "      <th>selfmade</th>\n",
       "      <th>typeofwealth</th>\n",
       "      <th>gender</th>\n",
       "      <th>age</th>\n",
       "      <th>...</th>\n",
       "      <th>relationshiptocompany</th>\n",
       "      <th>foundingdate</th>\n",
       "      <th>gdpcurrentus</th>\n",
       "      <th>sourceofwealth</th>\n",
       "      <th>notes</th>\n",
       "      <th>notes2</th>\n",
       "      <th>source</th>\n",
       "      <th>source_2</th>\n",
       "      <th>source_3</th>\n",
       "      <th>source_4</th>\n",
       "    </tr>\n",
       "  </thead>\n",
       "  <tbody>\n",
       "    <tr>\n",
       "      <th>184</th>\n",
       "      <td>2014</td>\n",
       "      <td>Bill Gates</td>\n",
       "      <td>1</td>\n",
       "      <td>United States</td>\n",
       "      <td>USA</td>\n",
       "      <td>76.0</td>\n",
       "      <td>self-made</td>\n",
       "      <td>founder non-finance</td>\n",
       "      <td>male</td>\n",
       "      <td>58.0</td>\n",
       "      <td>...</td>\n",
       "      <td>founder</td>\n",
       "      <td>1975.0</td>\n",
       "      <td>NaN</td>\n",
       "      <td>Microsoft</td>\n",
       "      <td>NaN</td>\n",
       "      <td>NaN</td>\n",
       "      <td>http://www.forbes.com/profile/bill-gates/</td>\n",
       "      <td>NaN</td>\n",
       "      <td>NaN</td>\n",
       "      <td>NaN</td>\n",
       "    </tr>\n",
       "    <tr>\n",
       "      <th>226</th>\n",
       "      <td>2014</td>\n",
       "      <td>Carlos Slim Helu</td>\n",
       "      <td>2</td>\n",
       "      <td>Mexico</td>\n",
       "      <td>MEX</td>\n",
       "      <td>72.0</td>\n",
       "      <td>self-made</td>\n",
       "      <td>privatized and resources</td>\n",
       "      <td>male</td>\n",
       "      <td>74.0</td>\n",
       "      <td>...</td>\n",
       "      <td>founder</td>\n",
       "      <td>1990.0</td>\n",
       "      <td>NaN</td>\n",
       "      <td>telecom</td>\n",
       "      <td>NaN</td>\n",
       "      <td>NaN</td>\n",
       "      <td>http://www.ozy.com/provocateurs/carlos-slims-w...</td>\n",
       "      <td>NaN</td>\n",
       "      <td>NaN</td>\n",
       "      <td>NaN</td>\n",
       "    </tr>\n",
       "    <tr>\n",
       "      <th>79</th>\n",
       "      <td>2014</td>\n",
       "      <td>Amancio Ortega</td>\n",
       "      <td>3</td>\n",
       "      <td>Spain</td>\n",
       "      <td>ESP</td>\n",
       "      <td>64.0</td>\n",
       "      <td>self-made</td>\n",
       "      <td>founder non-finance</td>\n",
       "      <td>male</td>\n",
       "      <td>77.0</td>\n",
       "      <td>...</td>\n",
       "      <td>founder</td>\n",
       "      <td>1975.0</td>\n",
       "      <td>NaN</td>\n",
       "      <td>retail</td>\n",
       "      <td>NaN</td>\n",
       "      <td>NaN</td>\n",
       "      <td>http://www.forbes.com/profile/amancio-ortega/</td>\n",
       "      <td>NaN</td>\n",
       "      <td>NaN</td>\n",
       "      <td>NaN</td>\n",
       "    </tr>\n",
       "    <tr>\n",
       "      <th>1562</th>\n",
       "      <td>2014</td>\n",
       "      <td>Warren Buffett</td>\n",
       "      <td>4</td>\n",
       "      <td>United States</td>\n",
       "      <td>USA</td>\n",
       "      <td>58.2</td>\n",
       "      <td>self-made</td>\n",
       "      <td>founder non-finance</td>\n",
       "      <td>male</td>\n",
       "      <td>83.0</td>\n",
       "      <td>...</td>\n",
       "      <td>founder</td>\n",
       "      <td>1839.0</td>\n",
       "      <td>NaN</td>\n",
       "      <td>Berkshire Hathaway</td>\n",
       "      <td>NaN</td>\n",
       "      <td>NaN</td>\n",
       "      <td>http://www.forbes.com/lists/2009/10/billionair...</td>\n",
       "      <td>http://www.forbes.com/companies/berkshire-hath...</td>\n",
       "      <td>NaN</td>\n",
       "      <td>NaN</td>\n",
       "    </tr>\n",
       "    <tr>\n",
       "      <th>862</th>\n",
       "      <td>2014</td>\n",
       "      <td>Larry Ellison</td>\n",
       "      <td>5</td>\n",
       "      <td>United States</td>\n",
       "      <td>USA</td>\n",
       "      <td>48.0</td>\n",
       "      <td>self-made</td>\n",
       "      <td>founder non-finance</td>\n",
       "      <td>male</td>\n",
       "      <td>69.0</td>\n",
       "      <td>...</td>\n",
       "      <td>founder</td>\n",
       "      <td>1977.0</td>\n",
       "      <td>NaN</td>\n",
       "      <td>Oracle</td>\n",
       "      <td>NaN</td>\n",
       "      <td>NaN</td>\n",
       "      <td>http://www.forbes.com/profile/larry-ellison/</td>\n",
       "      <td>http://www.businessinsider.com/how-larry-ellis...</td>\n",
       "      <td>NaN</td>\n",
       "      <td>NaN</td>\n",
       "    </tr>\n",
       "    <tr>\n",
       "      <th>339</th>\n",
       "      <td>2014</td>\n",
       "      <td>David Koch</td>\n",
       "      <td>6</td>\n",
       "      <td>United States</td>\n",
       "      <td>USA</td>\n",
       "      <td>40.0</td>\n",
       "      <td>inherited</td>\n",
       "      <td>inherited</td>\n",
       "      <td>male</td>\n",
       "      <td>73.0</td>\n",
       "      <td>...</td>\n",
       "      <td>relation</td>\n",
       "      <td>1940.0</td>\n",
       "      <td>NaN</td>\n",
       "      <td>diversified</td>\n",
       "      <td>inherited from father</td>\n",
       "      <td>NaN</td>\n",
       "      <td>http://www.kochind.com/About_Koch/History_Time...</td>\n",
       "      <td>NaN</td>\n",
       "      <td>NaN</td>\n",
       "      <td>NaN</td>\n",
       "    </tr>\n",
       "    <tr>\n",
       "      <th>247</th>\n",
       "      <td>2014</td>\n",
       "      <td>Charles Koch</td>\n",
       "      <td>6</td>\n",
       "      <td>United States</td>\n",
       "      <td>USA</td>\n",
       "      <td>40.0</td>\n",
       "      <td>inherited</td>\n",
       "      <td>inherited</td>\n",
       "      <td>male</td>\n",
       "      <td>78.0</td>\n",
       "      <td>...</td>\n",
       "      <td>relation</td>\n",
       "      <td>1940.0</td>\n",
       "      <td>NaN</td>\n",
       "      <td>diversified</td>\n",
       "      <td>inherited from father</td>\n",
       "      <td>NaN</td>\n",
       "      <td>http://www.kochind.com/About_Koch/History_Time...</td>\n",
       "      <td>NaN</td>\n",
       "      <td>NaN</td>\n",
       "      <td>NaN</td>\n",
       "    </tr>\n",
       "    <tr>\n",
       "      <th>1364</th>\n",
       "      <td>2014</td>\n",
       "      <td>Sheldon Adelson</td>\n",
       "      <td>8</td>\n",
       "      <td>United States</td>\n",
       "      <td>USA</td>\n",
       "      <td>38.0</td>\n",
       "      <td>self-made</td>\n",
       "      <td>self-made finance</td>\n",
       "      <td>male</td>\n",
       "      <td>80.0</td>\n",
       "      <td>...</td>\n",
       "      <td>founder</td>\n",
       "      <td>1952.0</td>\n",
       "      <td>NaN</td>\n",
       "      <td>casinos</td>\n",
       "      <td>NaN</td>\n",
       "      <td>NaN</td>\n",
       "      <td>http://www.forbes.com/profile/sheldon-adelson/</td>\n",
       "      <td>http://lasvegassun.com/news/1996/nov/26/rat-pa...</td>\n",
       "      <td>NaN</td>\n",
       "      <td>NaN</td>\n",
       "    </tr>\n",
       "    <tr>\n",
       "      <th>280</th>\n",
       "      <td>2014</td>\n",
       "      <td>Christy Walton</td>\n",
       "      <td>9</td>\n",
       "      <td>United States</td>\n",
       "      <td>USA</td>\n",
       "      <td>36.7</td>\n",
       "      <td>inherited</td>\n",
       "      <td>inherited</td>\n",
       "      <td>female</td>\n",
       "      <td>59.0</td>\n",
       "      <td>...</td>\n",
       "      <td>relation</td>\n",
       "      <td>1962.0</td>\n",
       "      <td>NaN</td>\n",
       "      <td>Wal-Mart</td>\n",
       "      <td>widow</td>\n",
       "      <td>NaN</td>\n",
       "      <td>http://www.forbes.com/profile/christy-walton/</td>\n",
       "      <td>NaN</td>\n",
       "      <td>NaN</td>\n",
       "      <td>NaN</td>\n",
       "    </tr>\n",
       "    <tr>\n",
       "      <th>724</th>\n",
       "      <td>2014</td>\n",
       "      <td>Jim Walton</td>\n",
       "      <td>10</td>\n",
       "      <td>United States</td>\n",
       "      <td>USA</td>\n",
       "      <td>34.7</td>\n",
       "      <td>inherited</td>\n",
       "      <td>inherited</td>\n",
       "      <td>male</td>\n",
       "      <td>66.0</td>\n",
       "      <td>...</td>\n",
       "      <td>relation</td>\n",
       "      <td>1962.0</td>\n",
       "      <td>NaN</td>\n",
       "      <td>Wal-Mart</td>\n",
       "      <td>inherited from father</td>\n",
       "      <td>NaN</td>\n",
       "      <td>http://www.forbes.com/profile/jim-walton/</td>\n",
       "      <td>NaN</td>\n",
       "      <td>NaN</td>\n",
       "      <td>NaN</td>\n",
       "    </tr>\n",
       "  </tbody>\n",
       "</table>\n",
       "<p>10 rows × 30 columns</p>\n",
       "</div>"
      ],
      "text/plain": [
       "      year              name  rank    citizenship countrycode  \\\n",
       "184   2014        Bill Gates     1  United States         USA   \n",
       "226   2014  Carlos Slim Helu     2         Mexico         MEX   \n",
       "79    2014    Amancio Ortega     3          Spain         ESP   \n",
       "1562  2014    Warren Buffett     4  United States         USA   \n",
       "862   2014     Larry Ellison     5  United States         USA   \n",
       "339   2014        David Koch     6  United States         USA   \n",
       "247   2014      Charles Koch     6  United States         USA   \n",
       "1364  2014   Sheldon Adelson     8  United States         USA   \n",
       "280   2014    Christy Walton     9  United States         USA   \n",
       "724   2014        Jim Walton    10  United States         USA   \n",
       "\n",
       "      networthusbillion   selfmade              typeofwealth  gender   age  \\\n",
       "184                76.0  self-made       founder non-finance    male  58.0   \n",
       "226                72.0  self-made  privatized and resources    male  74.0   \n",
       "79                 64.0  self-made       founder non-finance    male  77.0   \n",
       "1562               58.2  self-made       founder non-finance    male  83.0   \n",
       "862                48.0  self-made       founder non-finance    male  69.0   \n",
       "339                40.0  inherited                 inherited    male  73.0   \n",
       "247                40.0  inherited                 inherited    male  78.0   \n",
       "1364               38.0  self-made         self-made finance    male  80.0   \n",
       "280                36.7  inherited                 inherited  female  59.0   \n",
       "724                34.7  inherited                 inherited    male  66.0   \n",
       "\n",
       "      ... relationshiptocompany foundingdate gdpcurrentus      sourceofwealth  \\\n",
       "184   ...               founder       1975.0          NaN           Microsoft   \n",
       "226   ...               founder       1990.0          NaN             telecom   \n",
       "79    ...               founder       1975.0          NaN              retail   \n",
       "1562  ...               founder       1839.0          NaN  Berkshire Hathaway   \n",
       "862   ...               founder       1977.0          NaN              Oracle   \n",
       "339   ...              relation       1940.0          NaN         diversified   \n",
       "247   ...              relation       1940.0          NaN         diversified   \n",
       "1364  ...               founder       1952.0          NaN             casinos   \n",
       "280   ...              relation       1962.0          NaN            Wal-Mart   \n",
       "724   ...              relation       1962.0          NaN            Wal-Mart   \n",
       "\n",
       "                      notes  notes2  \\\n",
       "184                     NaN     NaN   \n",
       "226                     NaN     NaN   \n",
       "79                      NaN     NaN   \n",
       "1562                    NaN     NaN   \n",
       "862                     NaN     NaN   \n",
       "339   inherited from father     NaN   \n",
       "247   inherited from father     NaN   \n",
       "1364                    NaN     NaN   \n",
       "280                   widow     NaN   \n",
       "724   inherited from father     NaN   \n",
       "\n",
       "                                                 source  \\\n",
       "184           http://www.forbes.com/profile/bill-gates/   \n",
       "226   http://www.ozy.com/provocateurs/carlos-slims-w...   \n",
       "79        http://www.forbes.com/profile/amancio-ortega/   \n",
       "1562  http://www.forbes.com/lists/2009/10/billionair...   \n",
       "862        http://www.forbes.com/profile/larry-ellison/   \n",
       "339   http://www.kochind.com/About_Koch/History_Time...   \n",
       "247   http://www.kochind.com/About_Koch/History_Time...   \n",
       "1364     http://www.forbes.com/profile/sheldon-adelson/   \n",
       "280       http://www.forbes.com/profile/christy-walton/   \n",
       "724           http://www.forbes.com/profile/jim-walton/   \n",
       "\n",
       "                                               source_2 source_3 source_4  \n",
       "184                                                 NaN      NaN      NaN  \n",
       "226                                                 NaN      NaN      NaN  \n",
       "79                                                  NaN      NaN      NaN  \n",
       "1562  http://www.forbes.com/companies/berkshire-hath...      NaN      NaN  \n",
       "862   http://www.businessinsider.com/how-larry-ellis...      NaN      NaN  \n",
       "339                                                 NaN      NaN      NaN  \n",
       "247                                                 NaN      NaN      NaN  \n",
       "1364  http://lasvegassun.com/news/1996/nov/26/rat-pa...      NaN      NaN  \n",
       "280                                                 NaN      NaN      NaN  \n",
       "724                                                 NaN      NaN      NaN  \n",
       "\n",
       "[10 rows x 30 columns]"
      ]
     },
     "execution_count": 230,
     "metadata": {},
     "output_type": "execute_result"
    }
   ],
   "source": [
    "df.sort_values(by='networthusbillion', ascending=False).head(10)"
   ]
  },
  {
   "cell_type": "markdown",
   "metadata": {},
   "source": [
    "## 4a) How many male billionaires are there compared to the number of female billionares?\n",
    "\n",
    "> **TIP:** This is not a `.groupby`"
   ]
  },
  {
   "cell_type": "code",
   "execution_count": 12,
   "metadata": {},
   "outputs": [
    {
     "data": {
      "text/plain": [
       "gender\n",
       "male      1473\n",
       "female     180\n",
       "Name: count, dtype: int64"
      ]
     },
     "execution_count": 12,
     "metadata": {},
     "output_type": "execute_result"
    }
   ],
   "source": [
    "df.gender.value_counts()\n",
    "#df.value_counts('gender') "
   ]
  },
  {
   "cell_type": "markdown",
   "metadata": {},
   "source": [
    "## 4b) What percent is that?\n",
    "\n",
    "> **TIP:** Doing percentages with the answer to `4a` is so common that there's an extra parameter to automatically calculate it. Look at the documentation!"
   ]
  },
  {
   "cell_type": "code",
   "execution_count": 20,
   "metadata": {},
   "outputs": [
    {
     "data": {
      "text/plain": [
       "gender\n",
       "male      89.110708\n",
       "female    10.889292\n",
       "Name: proportion, dtype: float64"
      ]
     },
     "execution_count": 20,
     "metadata": {},
     "output_type": "execute_result"
    }
   ],
   "source": [
    "df.gender.value_counts(normalize=True)*100"
   ]
  },
  {
   "cell_type": "markdown",
   "metadata": {},
   "source": [
    "## 4c) Is the average wealth different for a female billionaire as compared to a male billionaire?\n",
    "\n",
    "> **TIP:** This one *does* use `.groupby`. You can pick what 'average' means in this context."
   ]
  },
  {
   "cell_type": "code",
   "execution_count": 32,
   "metadata": {},
   "outputs": [
    {
     "data": {
      "text/plain": [
       "gender\n",
       "female    3.920556\n",
       "male      3.902716\n",
       "Name: networthusbillion, dtype: float64"
      ]
     },
     "execution_count": 32,
     "metadata": {},
     "output_type": "execute_result"
    }
   ],
   "source": [
    "df.groupby('gender')['networthusbillion'].mean()"
   ]
  },
  {
   "cell_type": "markdown",
   "metadata": {},
   "source": [
    "## 5a) What is the most common source/type of wealth?"
   ]
  },
  {
   "cell_type": "code",
   "execution_count": 32,
   "metadata": {},
   "outputs": [
    {
     "data": {
      "text/plain": [
       "sourceofwealth\n",
       "real estate    107\n",
       "Name: count, dtype: int64"
      ]
     },
     "execution_count": 32,
     "metadata": {},
     "output_type": "execute_result"
    }
   ],
   "source": [
    "df.value_counts('sourceofwealth').head(1)"
   ]
  },
  {
   "cell_type": "code",
   "execution_count": 68,
   "metadata": {},
   "outputs": [
    {
     "data": {
      "text/plain": [
       "typeofwealth\n",
       "inherited    506\n",
       "Name: count, dtype: int64"
      ]
     },
     "execution_count": 68,
     "metadata": {},
     "output_type": "execute_result"
    }
   ],
   "source": [
    "df.value_counts('typeofwealth').head(1)"
   ]
  },
  {
   "cell_type": "markdown",
   "metadata": {},
   "source": [
    "## 5b) Is the most common source/type of wealth different between men and women?\n",
    "\n",
    "> **TIP:** You know how to `groupby` and you know how to count how many times a value is in a column. Can you put them together??? You could also do this as two separate cells where you calculate it separately for men and women.\n",
    ">\n",
    "> **TIP:** Use percentages for this, it makes it a lot more readable."
   ]
  },
  {
   "cell_type": "code",
   "execution_count": 70,
   "metadata": {},
   "outputs": [
    {
     "data": {
      "text/plain": [
       "gender  typeofwealth            \n",
       "female  inherited                   142\n",
       "        founder non-finance          21\n",
       "        executive                     6\n",
       "        self-made finance             6\n",
       "        privatized and resources      5\n",
       "male    founder non-finance         446\n",
       "        inherited                   364\n",
       "        self-made finance           338\n",
       "        privatized and resources    187\n",
       "        executive                   136\n",
       "Name: count, dtype: int64"
      ]
     },
     "execution_count": 70,
     "metadata": {},
     "output_type": "execute_result"
    }
   ],
   "source": [
    "df.groupby('gender')['typeofwealth'].value_counts()"
   ]
  },
  {
   "cell_type": "code",
   "execution_count": 74,
   "metadata": {},
   "outputs": [
    {
     "data": {
      "text/plain": [
       "gender  sourceofwealth\n",
       "female  diversified       9\n",
       "        real estate       7\n",
       "        media             6\n",
       "        construction      5\n",
       "        consumer goods    5\n",
       "                         ..\n",
       "male    web hosting       1\n",
       "        wind turbines     1\n",
       "        wine              1\n",
       "        winter jackets    1\n",
       "        wrestling         1\n",
       "Name: count, Length: 677, dtype: int64"
      ]
     },
     "execution_count": 74,
     "metadata": {},
     "output_type": "execute_result"
    }
   ],
   "source": [
    "df.groupby('gender')['sourceofwealth'].value_counts()"
   ]
  },
  {
   "cell_type": "code",
   "execution_count": 85,
   "metadata": {},
   "outputs": [
    {
     "data": {
      "text/plain": [
       "<bound method Series.sort_values of gender  sourceofwealth\n",
       "female  diversified       9\n",
       "        real estate       7\n",
       "        media             6\n",
       "        construction      5\n",
       "        consumer goods    5\n",
       "                         ..\n",
       "male    web hosting       1\n",
       "        wind turbines     1\n",
       "        wine              1\n",
       "        winter jackets    1\n",
       "        wrestling         1\n",
       "Name: count, Length: 677, dtype: int64>"
      ]
     },
     "execution_count": 85,
     "metadata": {},
     "output_type": "execute_result"
    }
   ],
   "source": [
    "df.groupby('gender')['sourceofwealth'].value_counts().sort_values"
   ]
  },
  {
   "cell_type": "code",
   "execution_count": 82,
   "metadata": {},
   "outputs": [],
   "source": [
    "new_df = df.groupby('gender')['sourceofwealth'].value_counts().sort_values(ascending=False)"
   ]
  },
  {
   "cell_type": "code",
   "execution_count": 58,
   "metadata": {},
   "outputs": [
    {
     "data": {
      "text/plain": [
       "sourceofwealth\n",
       "diversified                 9\n",
       "real estate                 7\n",
       "media                       6\n",
       "construction                5\n",
       "hotels, investments         5\n",
       "                           ..\n",
       "art collection, Swatch      1\n",
       "hair products               1\n",
       "advertising                 1\n",
       "casinos, hotels             1\n",
       "inherited, Mori Building    1\n",
       "Name: count, Length: 100, dtype: int64"
      ]
     },
     "execution_count": 58,
     "metadata": {},
     "output_type": "execute_result"
    }
   ],
   "source": [
    "df[df.gender == 'female']['sourceofwealth'].value_counts()"
   ]
  },
  {
   "cell_type": "code",
   "execution_count": 84,
   "metadata": {},
   "outputs": [
    {
     "data": {
      "text/plain": [
       "sourceofwealth\n",
       "real estate                     100\n",
       "diversified                      60\n",
       "retail                           60\n",
       "investments                      58\n",
       "pharmaceuticals                  40\n",
       "                               ... \n",
       "gas                               1\n",
       "tobacco distribution, retail      1\n",
       "drilling, shipping                1\n",
       "energy services                   1\n",
       "TV broadcasting                   1\n",
       "Name: count, Length: 577, dtype: int64"
      ]
     },
     "execution_count": 84,
     "metadata": {},
     "output_type": "execute_result"
    }
   ],
   "source": [
    "df[df.gender == 'male']['sourceofwealth'].value_counts()"
   ]
  },
  {
   "cell_type": "markdown",
   "metadata": {},
   "source": [
    "## 6a) What companies have the most billionaires? Let's see the top five.\n",
    "\n",
    "> **TIP:** You can use `.head()` on *anything*, not just your basic `df`\n",
    ">\n",
    "> **TIP:** You might feel like you should use `groupby`, but don't! There's an easier way to count."
   ]
  },
  {
   "cell_type": "code",
   "execution_count": 89,
   "metadata": {},
   "outputs": [
    {
     "data": {
      "text/plain": [
       "company\n",
       "Hyatt                  11\n",
       "Oetker-Gruppe           8\n",
       "S. C. Johnson & Son     7\n",
       "Alfa Group              6\n",
       "Votorantim Group        6\n",
       "Name: count, dtype: int64"
      ]
     },
     "execution_count": 89,
     "metadata": {},
     "output_type": "execute_result"
    }
   ],
   "source": [
    "df['company'].value_counts().head()"
   ]
  },
  {
   "cell_type": "markdown",
   "metadata": {},
   "source": [
    "### 6b) Graph those top 5 as a horizontal bar graph. Make the largest bar be at the top of the graph.\n",
    "\n",
    "> **TIP:** Just try to throw `.plot()` on the end??\n",
    "> \n",
    "> **TIP:** Make the largest bar be at the top of the graph\n",
    ">\n",
    "> **TIP:** If your chart seems... weird, think about where in the process you're sorting vs using `head`"
   ]
  },
  {
   "cell_type": "code",
   "execution_count": 122,
   "metadata": {},
   "outputs": [
    {
     "data": {
      "text/plain": [
       "<Axes: ylabel='company'>"
      ]
     },
     "execution_count": 122,
     "metadata": {},
     "output_type": "execute_result"
    },
    {
     "data": {
      "image/png": "[encoded data removed]",
      "text/plain": [
       "<Figure size 640x480 with 1 Axes>"
      ]
     },
     "metadata": {},
     "output_type": "display_data"
    }
   ],
   "source": [
    "df['company'].value_counts().head(5).sort_values().plot(kind='barh')"
   ]
  },
  {
   "cell_type": "code",
   "execution_count": 129,
   "metadata": {},
   "outputs": [
    {
     "data": {
      "text/plain": [
       "company\n",
       "Alfa Group              6\n",
       "Votorantim Group        6\n",
       "S. C. Johnson & Son     7\n",
       "Oetker-Gruppe           8\n",
       "Hyatt                  11\n",
       "Name: count, dtype: int64"
      ]
     },
     "execution_count": 129,
     "metadata": {},
     "output_type": "execute_result"
    }
   ],
   "source": [
    "df['company'].value_counts().head(5).sort_values()"
   ]
  },
  {
   "cell_type": "markdown",
   "metadata": {},
   "source": [
    "## 7) How much money do these top 5 billionaires have in total?\n",
    "\n",
    "> **TIP:** for multiple conditions, you can't use `or` and `and`. In pandas, `|` means *or* and `&` means *and*.\n",
    ">\n",
    "> **TIP:** Checking multiple conditions can be done two ways.\n",
    "> - `(df.colname == 'A') | (df.colname == 'B')`\n",
    "> - `df.colname.isin(['A', 'B'])`"
   ]
  },
  {
   "cell_type": "code",
   "execution_count": 155,
   "metadata": {},
   "outputs": [],
   "source": [
    "#hyatt = df['company'] == 'Hyatt'\n",
    "#hyatt[df['networthusbillion']].sum\n",
    "#df[df.company == 'Hyatt']['networthusbillion'].sum()"
   ]
  },
  {
   "cell_type": "code",
   "execution_count": 156,
   "metadata": {},
   "outputs": [
    {
     "data": {
      "text/plain": [
       "np.float64(120.30000000000001)"
      ]
     },
     "execution_count": 156,
     "metadata": {},
     "output_type": "execute_result"
    }
   ],
   "source": [
    "df[df.company.isin(['Hyatt', 'Oetker-Gruppe', 'S. C. Johnson & Son','Alfa Group','Votorantim Group'])]['networthusbillion'].sum()"
   ]
  },
  {
   "cell_type": "markdown",
   "metadata": {},
   "source": [
    "## 8) What are the top 10 countries with the most money held by billionaires?\n",
    "\n",
    "I am **not** asking which country has the most billionaires - this is **total amount of money per country.**\n",
    "\n",
    "> **TIP:** Think about it in steps - \"I want them organized by country,\" \"I want their net worth,\" \"I want to add it all up,\" and \"I want 10 of them.\" Just chain it all together."
   ]
  },
  {
   "cell_type": "code",
   "execution_count": 167,
   "metadata": {},
   "outputs": [
    {
     "data": {
      "text/plain": [
       "countrycode\n",
       "AGO      3.7\n",
       "ARE     14.6\n",
       "ARG     11.3\n",
       "AUS     85.4\n",
       "AUT     33.8\n",
       "BEL      8.0\n",
       "BRA    192.2\n",
       "CAN    112.8\n",
       "CHE     80.2\n",
       "CHL     41.3\n",
       "Name: networthusbillion, dtype: float64"
      ]
     },
     "execution_count": 167,
     "metadata": {},
     "output_type": "execute_result"
    }
   ],
   "source": [
    "df.groupby('countrycode')['networthusbillion'].sum().head(10)"
   ]
  },
  {
   "cell_type": "markdown",
   "metadata": {},
   "source": [
    "## 9a) How old is an average billionaire?"
   ]
  },
  {
   "cell_type": "code",
   "execution_count": 173,
   "metadata": {},
   "outputs": [
    {
     "data": {
      "text/plain": [
       "np.float64(63.0)"
      ]
     },
     "execution_count": 173,
     "metadata": {},
     "output_type": "execute_result"
    }
   ],
   "source": [
    "df.age.mean()\n",
    "df.age.median()"
   ]
  },
  {
   "cell_type": "markdown",
   "metadata": {},
   "source": [
    "## 9b) How old are self-made billionaires compared to non self-made billionaires? "
   ]
  },
  {
   "cell_type": "code",
   "execution_count": 182,
   "metadata": {},
   "outputs": [
    {
     "data": {
      "text/plain": [
       "np.float64(62.62589928057554)"
      ]
     },
     "execution_count": 182,
     "metadata": {},
     "output_type": "execute_result"
    }
   ],
   "source": [
    "df[df.selfmade == 'self-made'].age.mean()"
   ]
  },
  {
   "cell_type": "code",
   "execution_count": 183,
   "metadata": {},
   "outputs": [
    {
     "data": {
      "text/plain": [
       "np.float64(64.96218487394958)"
      ]
     },
     "execution_count": 183,
     "metadata": {},
     "output_type": "execute_result"
    }
   ],
   "source": [
    "df[df.selfmade == 'inherited'].age.mean()"
   ]
  },
  {
   "cell_type": "code",
   "execution_count": 184,
   "metadata": {},
   "outputs": [
    {
     "data": {
      "text/plain": [
       "selfmade\n",
       "inherited    64.962185\n",
       "self-made    62.625899\n",
       "Name: age, dtype: float64"
      ]
     },
     "execution_count": 184,
     "metadata": {},
     "output_type": "execute_result"
    }
   ],
   "source": [
    "df.groupby('selfmade')['age'].mean()"
   ]
  },
  {
   "cell_type": "markdown",
   "metadata": {},
   "source": [
    "## 10a) Who are the three youngest billionaires? Who are the three oldest?"
   ]
  },
  {
   "cell_type": "code",
   "execution_count": 189,
   "metadata": {},
   "outputs": [
    {
     "data": {
      "text/html": [
       "<div>\n",
       "<style scoped>\n",
       "    .dataframe tbody tr th:only-of-type {\n",
       "        vertical-align: middle;\n",
       "    }\n",
       "\n",
       "    .dataframe tbody tr th {\n",
       "        vertical-align: top;\n",
       "    }\n",
       "\n",
       "    .dataframe thead th {\n",
       "        text-align: right;\n",
       "    }\n",
       "</style>\n",
       "<table border=\"1\" class=\"dataframe\">\n",
       "  <thead>\n",
       "    <tr style=\"text-align: right;\">\n",
       "      <th></th>\n",
       "      <th>year</th>\n",
       "      <th>name</th>\n",
       "      <th>rank</th>\n",
       "      <th>citizenship</th>\n",
       "      <th>countrycode</th>\n",
       "      <th>networthusbillion</th>\n",
       "      <th>selfmade</th>\n",
       "      <th>typeofwealth</th>\n",
       "      <th>gender</th>\n",
       "      <th>age</th>\n",
       "      <th>...</th>\n",
       "      <th>relationshiptocompany</th>\n",
       "      <th>foundingdate</th>\n",
       "      <th>gdpcurrentus</th>\n",
       "      <th>sourceofwealth</th>\n",
       "      <th>notes</th>\n",
       "      <th>notes2</th>\n",
       "      <th>source</th>\n",
       "      <th>source_2</th>\n",
       "      <th>source_3</th>\n",
       "      <th>source_4</th>\n",
       "    </tr>\n",
       "  </thead>\n",
       "  <tbody>\n",
       "    <tr>\n",
       "      <th>343</th>\n",
       "      <td>2014</td>\n",
       "      <td>David Rockefeller, Sr.</td>\n",
       "      <td>580</td>\n",
       "      <td>United States</td>\n",
       "      <td>USA</td>\n",
       "      <td>2.9</td>\n",
       "      <td>inherited</td>\n",
       "      <td>inherited</td>\n",
       "      <td>male</td>\n",
       "      <td>98.0</td>\n",
       "      <td>...</td>\n",
       "      <td>relation</td>\n",
       "      <td>1870.0</td>\n",
       "      <td>NaN</td>\n",
       "      <td>oil, banking</td>\n",
       "      <td>family made most of fortune in the late 19th a...</td>\n",
       "      <td>NaN</td>\n",
       "      <td>http://en.wikipedia.org/wiki/David_Rockefeller</td>\n",
       "      <td>http://en.wikipedia.org/wiki/Standard_Oil</td>\n",
       "      <td>http://en.wikipedia.org/wiki/Rockefeller_family</td>\n",
       "      <td>NaN</td>\n",
       "    </tr>\n",
       "    <tr>\n",
       "      <th>816</th>\n",
       "      <td>2014</td>\n",
       "      <td>Karl Wlaschek</td>\n",
       "      <td>305</td>\n",
       "      <td>Austria</td>\n",
       "      <td>AUT</td>\n",
       "      <td>4.8</td>\n",
       "      <td>self-made</td>\n",
       "      <td>founder non-finance</td>\n",
       "      <td>male</td>\n",
       "      <td>96.0</td>\n",
       "      <td>...</td>\n",
       "      <td>founder</td>\n",
       "      <td>1953.0</td>\n",
       "      <td>NaN</td>\n",
       "      <td>retail</td>\n",
       "      <td>NaN</td>\n",
       "      <td>NaN</td>\n",
       "      <td>http://en.wikipedia.org/wiki/BILLA</td>\n",
       "      <td>http://en.wikipedia.org/wiki/Karl_Wlaschek</td>\n",
       "      <td>https://www.billa.at/Footer_Nav_Seiten/Geschic...</td>\n",
       "      <td>NaN</td>\n",
       "    </tr>\n",
       "    <tr>\n",
       "      <th>836</th>\n",
       "      <td>2014</td>\n",
       "      <td>Kirk Kerkorian</td>\n",
       "      <td>328</td>\n",
       "      <td>United States</td>\n",
       "      <td>USA</td>\n",
       "      <td>4.5</td>\n",
       "      <td>self-made</td>\n",
       "      <td>self-made finance</td>\n",
       "      <td>male</td>\n",
       "      <td>96.0</td>\n",
       "      <td>...</td>\n",
       "      <td>investor</td>\n",
       "      <td>1924.0</td>\n",
       "      <td>NaN</td>\n",
       "      <td>casinos, investments</td>\n",
       "      <td>purchased in 1969</td>\n",
       "      <td>NaN</td>\n",
       "      <td>http://en.wikipedia.org/wiki/Kirk_Kerkorian</td>\n",
       "      <td>http://www.forbes.com/profile/kirk-kerkorian/</td>\n",
       "      <td>PROFILE: Las Vegas billionaire amassed his wea...</td>\n",
       "      <td>NaN</td>\n",
       "    </tr>\n",
       "  </tbody>\n",
       "</table>\n",
       "<p>3 rows × 30 columns</p>\n",
       "</div>"
      ],
      "text/plain": [
       "     year                    name  rank    citizenship countrycode  \\\n",
       "343  2014  David Rockefeller, Sr.   580  United States         USA   \n",
       "816  2014           Karl Wlaschek   305        Austria         AUT   \n",
       "836  2014          Kirk Kerkorian   328  United States         USA   \n",
       "\n",
       "     networthusbillion   selfmade         typeofwealth gender   age  ...  \\\n",
       "343                2.9  inherited            inherited   male  98.0  ...   \n",
       "816                4.8  self-made  founder non-finance   male  96.0  ...   \n",
       "836                4.5  self-made    self-made finance   male  96.0  ...   \n",
       "\n",
       "    relationshiptocompany foundingdate gdpcurrentus        sourceofwealth  \\\n",
       "343              relation       1870.0          NaN          oil, banking   \n",
       "816               founder       1953.0          NaN                retail   \n",
       "836              investor       1924.0          NaN  casinos, investments   \n",
       "\n",
       "                                                 notes  notes2  \\\n",
       "343  family made most of fortune in the late 19th a...     NaN   \n",
       "816                                                NaN     NaN   \n",
       "836                                  purchased in 1969     NaN   \n",
       "\n",
       "                                             source  \\\n",
       "343  http://en.wikipedia.org/wiki/David_Rockefeller   \n",
       "816              http://en.wikipedia.org/wiki/BILLA   \n",
       "836     http://en.wikipedia.org/wiki/Kirk_Kerkorian   \n",
       "\n",
       "                                          source_2  \\\n",
       "343      http://en.wikipedia.org/wiki/Standard_Oil   \n",
       "816     http://en.wikipedia.org/wiki/Karl_Wlaschek   \n",
       "836  http://www.forbes.com/profile/kirk-kerkorian/   \n",
       "\n",
       "                                              source_3 source_4  \n",
       "343    http://en.wikipedia.org/wiki/Rockefeller_family      NaN  \n",
       "816  https://www.billa.at/Footer_Nav_Seiten/Geschic...      NaN  \n",
       "836  PROFILE: Las Vegas billionaire amassed his wea...      NaN  \n",
       "\n",
       "[3 rows x 30 columns]"
      ]
     },
     "execution_count": 189,
     "metadata": {},
     "output_type": "execute_result"
    }
   ],
   "source": [
    "df.sort_values(by='age', ascending=False).head(3)"
   ]
  },
  {
   "cell_type": "code",
   "execution_count": 188,
   "metadata": {},
   "outputs": [
    {
     "data": {
      "text/html": [
       "<div>\n",
       "<style scoped>\n",
       "    .dataframe tbody tr th:only-of-type {\n",
       "        vertical-align: middle;\n",
       "    }\n",
       "\n",
       "    .dataframe tbody tr th {\n",
       "        vertical-align: top;\n",
       "    }\n",
       "\n",
       "    .dataframe thead th {\n",
       "        text-align: right;\n",
       "    }\n",
       "</style>\n",
       "<table border=\"1\" class=\"dataframe\">\n",
       "  <thead>\n",
       "    <tr style=\"text-align: right;\">\n",
       "      <th></th>\n",
       "      <th>year</th>\n",
       "      <th>name</th>\n",
       "      <th>rank</th>\n",
       "      <th>citizenship</th>\n",
       "      <th>countrycode</th>\n",
       "      <th>networthusbillion</th>\n",
       "      <th>selfmade</th>\n",
       "      <th>typeofwealth</th>\n",
       "      <th>gender</th>\n",
       "      <th>age</th>\n",
       "      <th>...</th>\n",
       "      <th>relationshiptocompany</th>\n",
       "      <th>foundingdate</th>\n",
       "      <th>gdpcurrentus</th>\n",
       "      <th>sourceofwealth</th>\n",
       "      <th>notes</th>\n",
       "      <th>notes2</th>\n",
       "      <th>source</th>\n",
       "      <th>source_2</th>\n",
       "      <th>source_3</th>\n",
       "      <th>source_4</th>\n",
       "    </tr>\n",
       "  </thead>\n",
       "  <tbody>\n",
       "    <tr>\n",
       "      <th>1172</th>\n",
       "      <td>2014</td>\n",
       "      <td>Perenna Kei</td>\n",
       "      <td>1284</td>\n",
       "      <td>Hong Kong</td>\n",
       "      <td>HKG</td>\n",
       "      <td>1.3</td>\n",
       "      <td>inherited</td>\n",
       "      <td>inherited</td>\n",
       "      <td>female</td>\n",
       "      <td>24.0</td>\n",
       "      <td>...</td>\n",
       "      <td>relation</td>\n",
       "      <td>1996.0</td>\n",
       "      <td>NaN</td>\n",
       "      <td>real estate</td>\n",
       "      <td>inherited from father</td>\n",
       "      <td>NaN</td>\n",
       "      <td>http://en.wikipedia.org/wiki/Perenna_Kei</td>\n",
       "      <td>http://www.loganestate.com/en/about.aspx?ftid=294</td>\n",
       "      <td>NaN</td>\n",
       "      <td>NaN</td>\n",
       "    </tr>\n",
       "    <tr>\n",
       "      <th>397</th>\n",
       "      <td>2014</td>\n",
       "      <td>Dustin Moskovitz</td>\n",
       "      <td>202</td>\n",
       "      <td>United States</td>\n",
       "      <td>USA</td>\n",
       "      <td>6.8</td>\n",
       "      <td>self-made</td>\n",
       "      <td>founder non-finance</td>\n",
       "      <td>male</td>\n",
       "      <td>29.0</td>\n",
       "      <td>...</td>\n",
       "      <td>founder</td>\n",
       "      <td>2004.0</td>\n",
       "      <td>NaN</td>\n",
       "      <td>Facebook</td>\n",
       "      <td>NaN</td>\n",
       "      <td>NaN</td>\n",
       "      <td>http://en.wikipedia.org/wiki/Dustin_Moskovitz</td>\n",
       "      <td>http://www.forbes.com/profile/dustin-moskovitz/</td>\n",
       "      <td>https://www.facebook.com/facebook/info?tab=pag...</td>\n",
       "      <td>NaN</td>\n",
       "    </tr>\n",
       "    <tr>\n",
       "      <th>1004</th>\n",
       "      <td>2014</td>\n",
       "      <td>Mark Zuckerberg</td>\n",
       "      <td>21</td>\n",
       "      <td>United States</td>\n",
       "      <td>USA</td>\n",
       "      <td>28.5</td>\n",
       "      <td>self-made</td>\n",
       "      <td>founder non-finance</td>\n",
       "      <td>male</td>\n",
       "      <td>29.0</td>\n",
       "      <td>...</td>\n",
       "      <td>founder</td>\n",
       "      <td>2004.0</td>\n",
       "      <td>NaN</td>\n",
       "      <td>Facebook</td>\n",
       "      <td>NaN</td>\n",
       "      <td>NaN</td>\n",
       "      <td>http://www.forbes.com/profile/mark-zuckerberg/</td>\n",
       "      <td>NaN</td>\n",
       "      <td>NaN</td>\n",
       "      <td>NaN</td>\n",
       "    </tr>\n",
       "  </tbody>\n",
       "</table>\n",
       "<p>3 rows × 30 columns</p>\n",
       "</div>"
      ],
      "text/plain": [
       "      year              name  rank    citizenship countrycode  \\\n",
       "1172  2014       Perenna Kei  1284      Hong Kong         HKG   \n",
       "397   2014  Dustin Moskovitz   202  United States         USA   \n",
       "1004  2014   Mark Zuckerberg    21  United States         USA   \n",
       "\n",
       "      networthusbillion   selfmade         typeofwealth  gender   age  ...  \\\n",
       "1172                1.3  inherited            inherited  female  24.0  ...   \n",
       "397                 6.8  self-made  founder non-finance    male  29.0  ...   \n",
       "1004               28.5  self-made  founder non-finance    male  29.0  ...   \n",
       "\n",
       "     relationshiptocompany foundingdate gdpcurrentus  sourceofwealth  \\\n",
       "1172              relation       1996.0          NaN     real estate   \n",
       "397                founder       2004.0          NaN        Facebook   \n",
       "1004               founder       2004.0          NaN        Facebook   \n",
       "\n",
       "                      notes  notes2  \\\n",
       "1172  inherited from father     NaN   \n",
       "397                     NaN     NaN   \n",
       "1004                    NaN     NaN   \n",
       "\n",
       "                                              source  \\\n",
       "1172        http://en.wikipedia.org/wiki/Perenna_Kei   \n",
       "397    http://en.wikipedia.org/wiki/Dustin_Moskovitz   \n",
       "1004  http://www.forbes.com/profile/mark-zuckerberg/   \n",
       "\n",
       "                                               source_2  \\\n",
       "1172  http://www.loganestate.com/en/about.aspx?ftid=294   \n",
       "397     http://www.forbes.com/profile/dustin-moskovitz/   \n",
       "1004                                                NaN   \n",
       "\n",
       "                                               source_3 source_4  \n",
       "1172                                                NaN      NaN  \n",
       "397   https://www.facebook.com/facebook/info?tab=pag...      NaN  \n",
       "1004                                                NaN      NaN  \n",
       "\n",
       "[3 rows x 30 columns]"
      ]
     },
     "execution_count": 188,
     "metadata": {},
     "output_type": "execute_result"
    }
   ],
   "source": [
    "df.sort_values(by='age', ascending=True).head(3)"
   ]
  },
  {
   "cell_type": "markdown",
   "metadata": {},
   "source": [
    "## 10b) Make a graph of the distribution of ages.\n",
    "\n",
    "> **TIP:** You use `.plot()` to graph values in a column independently, but `.hist()` to draw a [histogram](https://www.mathsisfun.com/data/histograms.html) of the distribution of their values"
   ]
  },
  {
   "cell_type": "code",
   "execution_count": 196,
   "metadata": {},
   "outputs": [
    {
     "data": {
      "text/plain": [
       "<Axes: >"
      ]
     },
     "execution_count": 196,
     "metadata": {},
     "output_type": "execute_result"
    },
    {
     "data": {
      "image/png": "[encoded data removed]",
      "text/plain": [
       "<Figure size 640x480 with 1 Axes>"
      ]
     },
     "metadata": {},
     "output_type": "display_data"
    }
   ],
   "source": [
    "df['age'].hist(bins=10)"
   ]
  },
  {
   "cell_type": "markdown",
   "metadata": {},
   "source": [
    "## 11) Make a scatterplot of net worth compared to age\n",
    "\n",
    "It's more fun to do this in Altair as compared to matplotlib, but either is fine."
   ]
  },
  {
   "cell_type": "code",
   "execution_count": 200,
   "metadata": {},
   "outputs": [
    {
     "data": {
      "text/plain": [
       "<Axes: xlabel='age', ylabel='networthusbillion'>"
      ]
     },
     "execution_count": 200,
     "metadata": {},
     "output_type": "execute_result"
    },
    {
     "data": {
      "image/png": "[encoded data removed]",
      "text/plain": [
       "<Figure size 640x480 with 1 Axes>"
      ]
     },
     "metadata": {},
     "output_type": "display_data"
    }
   ],
   "source": [
    "import matplotlib.pyplot as plt\n",
    "df.plot.scatter(x='age', y='networthusbillion')"
   ]
  },
  {
   "cell_type": "markdown",
   "metadata": {},
   "source": [
    "## 13) Make a bar graph of the wealth of the top 10 richest billionaires\n",
    "\n",
    "> **TIP:** When you make your plot, you'll need to set the `x` and `y` or else your chart will look _crazy_\n",
    ">\n",
    "> **TIP:** x and y might be the opposite of what you expect them to be"
   ]
  },
  {
   "cell_type": "code",
   "execution_count": 231,
   "metadata": {},
   "outputs": [
    {
     "data": {
      "text/plain": [
       "<Axes: ylabel='name'>"
      ]
     },
     "execution_count": 231,
     "metadata": {},
     "output_type": "execute_result"
    },
    {
     "data": {
      "image/png": "[encoded data removed]",
      "text/plain": [
       "<Figure size 640x480 with 1 Axes>"
      ]
     },
     "metadata": {},
     "output_type": "display_data"
    }
   ],
   "source": [
    "df.sort_values('networthusbillion', ascending=False).head(10).plot(x = 'name', y = 'networthusbillion', kind='barh')"
   ]
  },
  {
   "cell_type": "markdown",
   "metadata": {},
   "source": [
    "## 14) Read in the most recent data\n",
    "\n",
    "I copied and pasted the most recent data from [the original Bloomberg story](https://www.bloomberg.com/billionaires/) (it's in the page's source code), but it all was saved as JSON. Can you use pandas to read in `billionaires.json`?\n",
    "\n",
    "> **TIP:** If `pd.read_csv` reads a CSV and `pd.read_excel` reads an excel file... what reads in JSON?\n",
    ">\n",
    "> **TIP:** It's a lot less complicated than what we did in class."
   ]
  },
  {
   "cell_type": "code",
   "execution_count": 218,
   "metadata": {},
   "outputs": [],
   "source": [
    "df=pd.read_json(\"billionaires.json\")"
   ]
  },
  {
   "cell_type": "code",
   "execution_count": 221,
   "metadata": {},
   "outputs": [
    {
     "data": {
      "text/html": [
       "<div>\n",
       "<style scoped>\n",
       "    .dataframe tbody tr th:only-of-type {\n",
       "        vertical-align: middle;\n",
       "    }\n",
       "\n",
       "    .dataframe tbody tr th {\n",
       "        vertical-align: top;\n",
       "    }\n",
       "\n",
       "    .dataframe thead th {\n",
       "        text-align: right;\n",
       "    }\n",
       "</style>\n",
       "<table border=\"1\" class=\"dataframe\">\n",
       "  <thead>\n",
       "    <tr style=\"text-align: right;\">\n",
       "      <th></th>\n",
       "      <th>commonName</th>\n",
       "      <th>commonLastName</th>\n",
       "      <th>citizenship</th>\n",
       "      <th>slug</th>\n",
       "      <th>industry</th>\n",
       "      <th>personId</th>\n",
       "      <th>rank</th>\n",
       "      <th>worth</th>\n",
       "      <th>lastChange</th>\n",
       "      <th>lastPercentChange</th>\n",
       "      <th>ytdChange</th>\n",
       "      <th>ytdPercentChange</th>\n",
       "      <th>sector</th>\n",
       "      <th>fWorth</th>\n",
       "      <th>fLastChange</th>\n",
       "      <th>fYtdChange</th>\n",
       "      <th>fLastPercentChange</th>\n",
       "      <th>fYtdPercentChange</th>\n",
       "    </tr>\n",
       "  </thead>\n",
       "  <tbody>\n",
       "    <tr>\n",
       "      <th>0</th>\n",
       "      <td>Elon Musk</td>\n",
       "      <td>Musk</td>\n",
       "      <td>United States</td>\n",
       "      <td>elon-r-musk</td>\n",
       "      <td>Technology</td>\n",
       "      <td>1954518</td>\n",
       "      <td>1</td>\n",
       "      <td>221116780866</td>\n",
       "      <td>9795811154</td>\n",
       "      <td>4.64</td>\n",
       "      <td>84106712938</td>\n",
       "      <td>61.39</td>\n",
       "      <td>Technology</td>\n",
       "      <td>$221B</td>\n",
       "      <td>+$9.80B</td>\n",
       "      <td>+$84.1B</td>\n",
       "      <td>+4.6%</td>\n",
       "      <td>+61.4%</td>\n",
       "    </tr>\n",
       "    <tr>\n",
       "      <th>1</th>\n",
       "      <td>Bernard Arnault</td>\n",
       "      <td>Arnault</td>\n",
       "      <td>France</td>\n",
       "      <td>bernard-j-arnault</td>\n",
       "      <td>Consumer</td>\n",
       "      <td>1392853</td>\n",
       "      <td>2</td>\n",
       "      <td>170267873036</td>\n",
       "      <td>7356040557</td>\n",
       "      <td>4.52</td>\n",
       "      <td>8178459368</td>\n",
       "      <td>5.05</td>\n",
       "      <td>Consumer</td>\n",
       "      <td>$170B</td>\n",
       "      <td>+$7.36B</td>\n",
       "      <td>+$8.18B</td>\n",
       "      <td>+4.5%</td>\n",
       "      <td>+5.0%</td>\n",
       "    </tr>\n",
       "    <tr>\n",
       "      <th>2</th>\n",
       "      <td>Jeff Bezos</td>\n",
       "      <td>Bezos</td>\n",
       "      <td>United States</td>\n",
       "      <td>jeffrey-p-bezos</td>\n",
       "      <td>Technology</td>\n",
       "      <td>1642252</td>\n",
       "      <td>3</td>\n",
       "      <td>169556171871</td>\n",
       "      <td>3202661603</td>\n",
       "      <td>1.93</td>\n",
       "      <td>62599942079</td>\n",
       "      <td>58.53</td>\n",
       "      <td>Technology</td>\n",
       "      <td>$170B</td>\n",
       "      <td>+$3.20B</td>\n",
       "      <td>+$62.6B</td>\n",
       "      <td>+1.9%</td>\n",
       "      <td>+58.5%</td>\n",
       "    </tr>\n",
       "    <tr>\n",
       "      <th>3</th>\n",
       "      <td>Bill Gates</td>\n",
       "      <td>Gates</td>\n",
       "      <td>United States</td>\n",
       "      <td>william-h-gates</td>\n",
       "      <td>Technology</td>\n",
       "      <td>1390479</td>\n",
       "      <td>4</td>\n",
       "      <td>131137012631</td>\n",
       "      <td>1103482475</td>\n",
       "      <td>0.85</td>\n",
       "      <td>21900118029</td>\n",
       "      <td>20.05</td>\n",
       "      <td>Technology</td>\n",
       "      <td>$131B</td>\n",
       "      <td>+$1.10B</td>\n",
       "      <td>+$21.9B</td>\n",
       "      <td>+0.8%</td>\n",
       "      <td>+20.1%</td>\n",
       "    </tr>\n",
       "    <tr>\n",
       "      <th>4</th>\n",
       "      <td>Larry Ellison</td>\n",
       "      <td>Ellison</td>\n",
       "      <td>United States</td>\n",
       "      <td>lawrence-j-ellison</td>\n",
       "      <td>Technology</td>\n",
       "      <td>1491757</td>\n",
       "      <td>5</td>\n",
       "      <td>129608081535</td>\n",
       "      <td>2286642464</td>\n",
       "      <td>1.80</td>\n",
       "      <td>37780140594</td>\n",
       "      <td>41.14</td>\n",
       "      <td>Technology</td>\n",
       "      <td>$130B</td>\n",
       "      <td>+$2.29B</td>\n",
       "      <td>+$37.8B</td>\n",
       "      <td>+1.8%</td>\n",
       "      <td>+41.1%</td>\n",
       "    </tr>\n",
       "    <tr>\n",
       "      <th>5</th>\n",
       "      <td>Steve Ballmer</td>\n",
       "      <td>Ballmer</td>\n",
       "      <td>United States</td>\n",
       "      <td>steven-a-ballmer</td>\n",
       "      <td>Technology</td>\n",
       "      <td>1390481</td>\n",
       "      <td>6</td>\n",
       "      <td>127674393229</td>\n",
       "      <td>1147564868</td>\n",
       "      <td>0.91</td>\n",
       "      <td>41866122956</td>\n",
       "      <td>48.79</td>\n",
       "      <td>Technology</td>\n",
       "      <td>$128B</td>\n",
       "      <td>+$1.15B</td>\n",
       "      <td>+$41.9B</td>\n",
       "      <td>+0.9%</td>\n",
       "      <td>+48.8%</td>\n",
       "    </tr>\n",
       "    <tr>\n",
       "      <th>6</th>\n",
       "      <td>Mark Zuckerberg</td>\n",
       "      <td>Zuckerberg</td>\n",
       "      <td>United States</td>\n",
       "      <td>mark-e-zuckerberg</td>\n",
       "      <td>Technology</td>\n",
       "      <td>15103277</td>\n",
       "      <td>7</td>\n",
       "      <td>121727717679</td>\n",
       "      <td>2496111771</td>\n",
       "      <td>2.09</td>\n",
       "      <td>76114221811</td>\n",
       "      <td>166.87</td>\n",
       "      <td>Technology</td>\n",
       "      <td>$122B</td>\n",
       "      <td>+$2.50B</td>\n",
       "      <td>+$76.1B</td>\n",
       "      <td>+2.1%</td>\n",
       "      <td>+166.9%</td>\n",
       "    </tr>\n",
       "    <tr>\n",
       "      <th>7</th>\n",
       "      <td>Larry Page</td>\n",
       "      <td>Page</td>\n",
       "      <td>United States</td>\n",
       "      <td>lawrence-e-page</td>\n",
       "      <td>Technology</td>\n",
       "      <td>1923756</td>\n",
       "      <td>8</td>\n",
       "      <td>120489590879</td>\n",
       "      <td>1318835656</td>\n",
       "      <td>1.11</td>\n",
       "      <td>37559747629</td>\n",
       "      <td>45.29</td>\n",
       "      <td>Technology</td>\n",
       "      <td>$120B</td>\n",
       "      <td>+$1.32B</td>\n",
       "      <td>+$37.6B</td>\n",
       "      <td>+1.1%</td>\n",
       "      <td>+45.3%</td>\n",
       "    </tr>\n",
       "    <tr>\n",
       "      <th>8</th>\n",
       "      <td>Warren Buffett</td>\n",
       "      <td>Buffett</td>\n",
       "      <td>United States</td>\n",
       "      <td>warren-e-buffett</td>\n",
       "      <td>Diversified</td>\n",
       "      <td>1387055</td>\n",
       "      <td>9</td>\n",
       "      <td>118523728929</td>\n",
       "      <td>1334959503</td>\n",
       "      <td>1.14</td>\n",
       "      <td>11065137784</td>\n",
       "      <td>10.30</td>\n",
       "      <td>Diversified</td>\n",
       "      <td>$119B</td>\n",
       "      <td>+$1.33B</td>\n",
       "      <td>+$11.1B</td>\n",
       "      <td>+1.1%</td>\n",
       "      <td>+10.3%</td>\n",
       "    </tr>\n",
       "    <tr>\n",
       "      <th>9</th>\n",
       "      <td>Sergey Brin</td>\n",
       "      <td>Brin</td>\n",
       "      <td>United States</td>\n",
       "      <td>sergey-m-brin</td>\n",
       "      <td>Technology</td>\n",
       "      <td>2506013</td>\n",
       "      <td>10</td>\n",
       "      <td>114296942954</td>\n",
       "      <td>1241492329</td>\n",
       "      <td>1.10</td>\n",
       "      <td>34929098952</td>\n",
       "      <td>44.01</td>\n",
       "      <td>Technology</td>\n",
       "      <td>$114B</td>\n",
       "      <td>+$1.24B</td>\n",
       "      <td>+$34.9B</td>\n",
       "      <td>+1.1%</td>\n",
       "      <td>+44.0%</td>\n",
       "    </tr>\n",
       "  </tbody>\n",
       "</table>\n",
       "</div>"
      ],
      "text/plain": [
       "        commonName commonLastName    citizenship                slug  \\\n",
       "0        Elon Musk           Musk  United States         elon-r-musk   \n",
       "1  Bernard Arnault        Arnault         France   bernard-j-arnault   \n",
       "2       Jeff Bezos          Bezos  United States     jeffrey-p-bezos   \n",
       "3       Bill Gates          Gates  United States     william-h-gates   \n",
       "4    Larry Ellison        Ellison  United States  lawrence-j-ellison   \n",
       "5    Steve Ballmer        Ballmer  United States    steven-a-ballmer   \n",
       "6  Mark Zuckerberg     Zuckerberg  United States   mark-e-zuckerberg   \n",
       "7       Larry Page           Page  United States     lawrence-e-page   \n",
       "8   Warren Buffett        Buffett  United States    warren-e-buffett   \n",
       "9      Sergey Brin           Brin  United States       sergey-m-brin   \n",
       "\n",
       "      industry  personId  rank         worth  lastChange  lastPercentChange  \\\n",
       "0   Technology   1954518     1  221116780866  9795811154               4.64   \n",
       "1     Consumer   1392853     2  170267873036  7356040557               4.52   \n",
       "2   Technology   1642252     3  169556171871  3202661603               1.93   \n",
       "3   Technology   1390479     4  131137012631  1103482475               0.85   \n",
       "4   Technology   1491757     5  129608081535  2286642464               1.80   \n",
       "5   Technology   1390481     6  127674393229  1147564868               0.91   \n",
       "6   Technology  15103277     7  121727717679  2496111771               2.09   \n",
       "7   Technology   1923756     8  120489590879  1318835656               1.11   \n",
       "8  Diversified   1387055     9  118523728929  1334959503               1.14   \n",
       "9   Technology   2506013    10  114296942954  1241492329               1.10   \n",
       "\n",
       "     ytdChange  ytdPercentChange       sector fWorth fLastChange fYtdChange  \\\n",
       "0  84106712938             61.39   Technology  $221B     +$9.80B    +$84.1B   \n",
       "1   8178459368              5.05     Consumer  $170B     +$7.36B    +$8.18B   \n",
       "2  62599942079             58.53   Technology  $170B     +$3.20B    +$62.6B   \n",
       "3  21900118029             20.05   Technology  $131B     +$1.10B    +$21.9B   \n",
       "4  37780140594             41.14   Technology  $130B     +$2.29B    +$37.8B   \n",
       "5  41866122956             48.79   Technology  $128B     +$1.15B    +$41.9B   \n",
       "6  76114221811            166.87   Technology  $122B     +$2.50B    +$76.1B   \n",
       "7  37559747629             45.29   Technology  $120B     +$1.32B    +$37.6B   \n",
       "8  11065137784             10.30  Diversified  $119B     +$1.33B    +$11.1B   \n",
       "9  34929098952             44.01   Technology  $114B     +$1.24B    +$34.9B   \n",
       "\n",
       "  fLastPercentChange fYtdPercentChange  \n",
       "0              +4.6%            +61.4%  \n",
       "1              +4.5%             +5.0%  \n",
       "2              +1.9%            +58.5%  \n",
       "3              +0.8%            +20.1%  \n",
       "4              +1.8%            +41.1%  \n",
       "5              +0.9%            +48.8%  \n",
       "6              +2.1%           +166.9%  \n",
       "7              +1.1%            +45.3%  \n",
       "8              +1.1%            +10.3%  \n",
       "9              +1.1%            +44.0%  "
      ]
     },
     "execution_count": 221,
     "metadata": {},
     "output_type": "execute_result"
    }
   ],
   "source": [
    "df.sort_values(by='rank', ascending=True).head(10)"
   ]
  },
  {
   "cell_type": "code",
   "execution_count": null,
   "metadata": {},
   "outputs": [],
   "source": []
  }
 ],
 "metadata": {
  "kernelspec": {
   "display_name": "Python 3 (ipykernel)",
   "language": "python",
   "name": "python3"
  },
  "language_info": {
   "codemirror_mode": {
    "name": "ipython",
    "version": 3
   },
   "file_extension": ".py",
   "mimetype": "text/x-python",
   "name": "python",
   "nbconvert_exporter": "python",
   "pygments_lexer": "ipython3",
   "version": "3.11.8"
  }
 },
 "nbformat": 4,
 "nbformat_minor": 4
}
